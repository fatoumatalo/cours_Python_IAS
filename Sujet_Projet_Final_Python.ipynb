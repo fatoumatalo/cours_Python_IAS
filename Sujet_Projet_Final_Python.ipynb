{
  "cells": [
    {
      "cell_type": "markdown",
      "metadata": {
        "id": "YWwG9GRhfAqp"
      },
      "source": [
        "### Projet: Génération aléatoire de quiz \n",
        "\n"
      ],
      "id": "YWwG9GRhfAqp"
    },
    {
      "cell_type": "markdown",
      "metadata": {
        "id": "D2eQnm-KfAqs"
      },
      "source": [
        "Supposons que vous êtes un professeur de géographie avec **35 élèves** dans votre classe et que vous souhaitez faire un quiz sur les départements du Sénégal. Hélas, votre classe contient quelques mauvais œufs et vous ne pouvez pas faire confiance aux élèves pour qu'ils ne trichent pas. Vous souhaitez **randomiser** l'ordre des questions afin que chaque quiz soit unique, ce qui rend impossible pour quiconque de recueillir les réponses de quelqu'un d'autre. Bien sûr, le faire à la main serait une affaire **longue et ennuyeuse**. Heureusement, vous connaissez un peu Python.\n",
        "\n",
        "* Dans ce projet, l'idée est de faire un programme capable de générer aléatoireement des quiz en changeant l'ordre des questinons mais aussi l'ordre des réponses à proposer aux étudiants. Les étudiants vont donc devoir cocher une réponse parmis celles proposées. "
      ],
      "id": "D2eQnm-KfAqs"
    },
    {
      "cell_type": "markdown",
      "metadata": {
        "id": "n1-owCGhfAqt"
      },
      "source": [
        "### I. Partie 1: Collecte des données pour la création du quiz\n",
        "\n",
        "Dans cette partie, nous allons d'abord cherchez les données (regions et départements associés) pour créer notre quiz.\n",
        "Nous allons un peu automatiser le processus de récupération des données.\n",
        "Nous récupérons les données depuis ce [site](https://www.sport-histoire.fr/Geographie/Liste_des_departements_et_regions_du_Senegal.php). Je vous conseille d'ouvrir le site et de voir un peu les données qu'on récupérer.\n",
        "\n",
        "* Une manière de le faire serait de faire du copier-coller car il n'y a pas beaucoup de données. Nous allons éviter ça !!! On accepte de faire le travail de **\"copier\"** et on laisse à python de se charger de coller ce qu'on a copié. Pour cela nous allons utiliser le module **clipboard** permettant à python d'accéder au **presse-papier** (là où l'ordinateur garde temporairement ce qu'on copie quand on copie du texte quelque part). \n",
        "\n",
        "* La cellule suivante permet d'installer **clipboard** et celle qui suit pour l'importer."
      ],
      "id": "n1-owCGhfAqt"
    },
    {
      "cell_type": "code",
      "execution_count": null,
      "metadata": {
        "id": "vbD0JPe7fAqv",
        "outputId": "820aac55-173e-44c0-ec1a-abfb118131c0"
      },
      "outputs": [
        {
          "name": "stdout",
          "output_type": "stream",
          "text": [
            "Requirement already satisfied: clipboard in c:\\users\\user-pc\\anaconda3\\lib\\site-packages (0.0.4)\n",
            "Requirement already satisfied: pyperclip>=1.3 in c:\\users\\user-pc\\anaconda3\\lib\\site-packages (from clipboard) (1.8.2)\n"
          ]
        }
      ],
      "source": [
        "### Pour installer clipboard car vous ne l'avez pas forcément sur votre o\n",
        "!pip install clipboard  "
      ],
      "id": "vbD0JPe7fAqv"
    },
    {
      "cell_type": "code",
      "execution_count": null,
      "metadata": {
        "id": "ECqDkJqCfAqw"
      },
      "outputs": [],
      "source": [
        "import clipboard  # on import clipborad pour l'utiliser"
      ],
      "id": "ECqDkJqCfAqw"
    },
    {
      "cell_type": "markdown",
      "metadata": {
        "id": "AUOGA5MsfAqx"
      },
      "source": [
        "#### I.1 Comprendre un peu clipboard\n",
        "\n",
        "Vous pouvez voir sur internet tout ce qu'on peut faire avec ce module mais vous en n'avez pas besoin. On a besoin que de deux fonctions de clipboard.\n",
        "\n",
        "* `clipboard.copy(\"Hello\")` pour copier un string et le mettre dans le presse-papier. \n",
        "    Q1: Executez uniquement la cellule suivante puis faites un **clique droit** puis **coller** n'importe où par exemple sur google pour voir que **clipboard.copy** a bien fait le job."
      ],
      "id": "AUOGA5MsfAqx"
    },
    {
      "cell_type": "code",
      "execution_count": null,
      "metadata": {
        "id": "oqGfKrWwfAqx"
      },
      "outputs": [],
      "source": [
        "clipboard.copy(\"Hello\") # 1"
      ],
      "id": "oqGfKrWwfAqx"
    },
    {
      "cell_type": "markdown",
      "metadata": {
        "id": "4s_IpEvNfAqy"
      },
      "source": [
        "* `clipboard.paste()` pour coller (au format string) ce qui se trouve dans le presse papier. Je vous conseille de copier n'importe quoi depuis google par exemple puis d'exécuter le cellule suivante pour coller."
      ],
      "id": "4s_IpEvNfAqy"
    },
    {
      "cell_type": "code",
      "execution_count": null,
      "metadata": {
        "id": "KlniLKYNfAqz",
        "outputId": "05c2f648-5583-43fc-e3c1-d0ed791ffebd"
      },
      "outputs": [
        {
          "data": {
            "text/plain": [
              "'Hello'"
            ]
          },
          "execution_count": 794,
          "metadata": {},
          "output_type": "execute_result"
        }
      ],
      "source": [
        "clipboard.paste()"
      ],
      "id": "KlniLKYNfAqz"
    },
    {
      "cell_type": "markdown",
      "metadata": {
        "id": "BD6aanp5fAqz"
      },
      "source": [
        "# I.2 Collecte des données avec clipboard\n",
        "Le programme suivant permet de copier les données qu'on va utiliser pour la suite.\n",
        "\n",
        "Ouvrez sur un nouveau onglet le lien du site suivant: https://www.sport-histoire.fr/Geographie/Liste_des_departements_et_regions_du_Senegal.php\n",
        "NB: (il est préférable de mettre l'onglet du site et l'onglet du notebook pour mieux voir)\n",
        "\n",
        "Exécuter la cellule suivante: Pour l'instant la cellule ne fait rien et c'est normal !!! Les explications pour comprendre le programme sont mises à côté des lignes de code.\n",
        "\n",
        "Copier la première région (Dakar) pour voir ce qui se passe. Le programme vous affiche bien un message disant qu'il a fait le travail. Copiez la région suivante et ainsi de suite pour voir.\n",
        "\n",
        "Pour arrêter la boucle, je vous conseille de copier le contenu de la varible stop (de la cellule suivante) sans les guillemets simples, sinon vous risquez d'avoir un message d'erreur et dans ce cas faudra redémarrer le noyau de jupyter notebook (Kernel > restart), ce qui n'est par pratique !!!"
      ],
      "id": "BD6aanp5fAqz"
    },
    {
      "cell_type": "code",
      "execution_count": null,
      "metadata": {
        "id": "sI5U5x1kfAq0",
        "outputId": "23f4300a-5a0a-4353-8935-01a40a2f35a0"
      },
      "outputs": [
        {
          "name": "stdout",
          "output_type": "stream",
          "text": [
            "region de dakar copiée\n",
            "\n",
            "\n",
            "region de diourbel copiée\n",
            "\n",
            "\n",
            "region de fatick copiée\n",
            "\n",
            "\n",
            "region de kaolack copiée\n",
            "\n",
            "\n",
            "region de kolda copiée\n",
            "\n",
            "\n",
            "region de louga copiée\n",
            "\n",
            "\n",
            "region de matam copiée\n",
            "\n",
            "\n",
            "region de saint-louis copiée\n",
            "\n",
            "\n",
            "region de tambacounda copiée\n",
            "\n",
            "\n",
            "region de thiès copiée\n",
            "\n",
            "\n",
            "region de ziguinchor copiée\n",
            "\n",
            "\n",
            "region de kaffrine copiée\n",
            "\n",
            "\n",
            "region de kédougou copiée\n",
            "\n",
            "\n",
            "region de sédhiou copiée\n",
            "\n",
            "\n",
            "On a fini de copier\n"
          ]
        }
      ],
      "source": [
        "stop = \"stop\"    # un string pour dire à python qu'on a finit d'ajouter des régions. Copier la valeur si on veut arrêter la collecte\n",
        "\n",
        "restart = \"restart\" # un string pour dire à python qu'on veut continuer à ajouter des régions\n",
        "\n",
        "\n",
        "regions = []  # un liste vide. On n'y mettra toutes les regions\n",
        "clipboard.copy(restart) # on commence le travail\n",
        "\n",
        "while True:\n",
        "    region = clipboard.paste() # on recupère ce qu'on a copié depuis le site\n",
        "    \n",
        "    if region != restart: # la valeur copié est différent de restart\n",
        "        if region == stop: # on arrête la boucle si on a copié stop\n",
        "            print(\"On a fini de copier\")\n",
        "            break\n",
        "        else: # sinon\n",
        "            region = region.lower() # on change en lower()\n",
        "            regions.append(region)  # on a ajoute à la liste\n",
        "            print(f\"region de {region} copiée\") \n",
        "            print(\"\\n\")  # saut de ligne \n",
        "            clipboard.copy(restart) # on recommence en mettant copiant start avec la fonction copy"
      ],
      "id": "sI5U5x1kfAq0"
    },
    {
      "cell_type": "markdown",
      "metadata": {
        "id": "wRkCBcNNfAq1"
      },
      "source": [
        "#### Q1 : Afficher le contenu de la variable regions avec la fonction prints. \n",
        "\n",
        "Concernant les régions, il se peut que les strings enregistrés soit accompagnés par le caractère **\"\\t\"** qui représente 2 espaces (tab). Vous devez les enlever!!!\n",
        "\n",
        "Je vous conseille de prendre un string se terminant par **\\t** pour voir comment vous feriez!!!. Le fonction **.split** pourrait servir. La méthode **.replace** pourrait servir aussi"
      ],
      "id": "wRkCBcNNfAq1"
    },
    {
      "cell_type": "code",
      "execution_count": null,
      "metadata": {
        "id": "57cpi0ZhfAq1",
        "outputId": "786cd204-dea3-471b-ea22-437831fe6d45"
      },
      "outputs": [
        {
          "name": "stdout",
          "output_type": "stream",
          "text": [
            "['dakar', 'diourbel', 'fatick', 'kaolack', 'kolda', 'louga', 'matam', 'saint-louis', 'tambacounda', 'thiès', 'ziguinchor', 'kaffrine', 'kédougou', 'sédhiou']\n"
          ]
        }
      ],
      "source": [
        "print(regions)"
      ],
      "id": "57cpi0ZhfAq1"
    },
    {
      "cell_type": "code",
      "execution_count": null,
      "metadata": {
        "id": "6ac2EjNtfAq1"
      },
      "outputs": [],
      "source": [
        "regions = [region.replace('\\t', '') for region in regions]"
      ],
      "id": "6ac2EjNtfAq1"
    },
    {
      "cell_type": "code",
      "execution_count": null,
      "metadata": {
        "scrolled": true,
        "id": "XzwezFeSfAq2",
        "outputId": "6161a959-8fe3-4a37-8b83-703d179690ae"
      },
      "outputs": [
        {
          "data": {
            "text/plain": [
              "['dakar',\n",
              " 'diourbel',\n",
              " 'fatick',\n",
              " 'kaolack',\n",
              " 'kolda',\n",
              " 'louga',\n",
              " 'matam',\n",
              " 'saint-louis',\n",
              " 'tambacounda',\n",
              " 'thiès',\n",
              " 'ziguinchor',\n",
              " 'kaffrine',\n",
              " 'kédougou',\n",
              " 'sédhiou']"
            ]
          },
          "execution_count": 799,
          "metadata": {},
          "output_type": "execute_result"
        }
      ],
      "source": [
        "regions"
      ],
      "id": "XzwezFeSfAq2"
    },
    {
      "cell_type": "markdown",
      "metadata": {
        "id": "l8i8Is2HfAq2"
      },
      "source": [
        "### Q2: Inspirez-vous de la boucle précédente pour récupérer les données de la colonne départements et le mettre dans une variable nommée `departements_associés` (sans accent pour les noms de variables)\n",
        "\n",
        "Il est important de récupérer les données dans l'ordre de récupération des régions pour que la position des regions dans la liste **`regions`** correspondent à la position de ces départements dans la liste  `departements_associes`. Et aussi en copiant les départements pour une région donnée, il faut bien copier tous ces départements. En adaptant le code de la cellule précédente veuillez à bien changer le nom des variables si nécessaire au risque d'écraser la liste des régions `regions`. On gardera les noms des départements au format **lower()** comme pour les régions."
      ],
      "id": "l8i8Is2HfAq2"
    },
    {
      "cell_type": "code",
      "execution_count": null,
      "metadata": {
        "id": "nqwPEzAjfAq2",
        "outputId": "384dfdb5-1f46-4bde-a00d-329263da6a43"
      },
      "outputs": [
        {
          "name": "stdout",
          "output_type": "stream",
          "text": [
            "departements_associes de guédiawaye\n",
            "pikine\n",
            "rufisque copiée\n",
            "\n",
            "\n",
            "departements_associes de bambey\n",
            "diourbel\n",
            "mbacké copiée\n",
            "\n",
            "\n",
            "departements_associes de foundiougne\n",
            "gossas copiée\n",
            "\n",
            "\n",
            "departements_associes de guinguinéo\n",
            "nioro du rip copiée\n",
            "\n",
            "\n",
            "departements_associes de vélingara\n",
            "médina yoro foulah copiée\n",
            "\n",
            "\n",
            "departements_associes de kébémer\n",
            "linguère copiée\n",
            "\n",
            "\n",
            "departements_associes de kanel\n",
            "matam\n",
            "ranérou copiée\n",
            "\n",
            "\n",
            "departements_associes de dagana\n",
            "podor copiée\n",
            "\n",
            "\n",
            "departements_associes de bakel\n",
            "koumpentoum\n",
            "tambacounda\n",
            "goudiry copiée\n",
            "\n",
            "\n",
            "departements_associes de m'bour\n",
            "thiès\n",
            "tivaouane copiée\n",
            "\n",
            "\n",
            "departements_associes de \tbignogna\n",
            "oussouye copiée\n",
            "\n",
            "\n",
            "departements_associes de \tbirkilane\n",
            "kaffrine\n",
            "malem-hodar\n",
            "kounghel copiée\n",
            "\n",
            "\n",
            "departements_associes de salemata\n",
            "saraya copiée\n",
            "\n",
            "\n",
            "departements_associes de bounkiling\n",
            "goudomp copiée\n",
            "\n",
            "\n",
            "departements_associes de stop  copiée\n",
            "\n",
            "\n",
            "On a fini de copier\n"
          ]
        }
      ],
      "source": [
        "## Votre code\n",
        "stop = \"stop\"    # un string pour dire à python qu'on a finit d'ajouter des régions. Copier la valeur si on veut arrêter la collecte\n",
        "\n",
        "restart = \"restart\" # un string pour dire à python qu'on veut continuer à ajouter des régions\n",
        "\n",
        "\n",
        "departements_associes = [] # un liste vide. On n'y mettra toutes les regions\n",
        "clipboard.copy(restart) # on commence le travail\n",
        "\n",
        "while True:\n",
        "    departements_associe = clipboard.paste() # on recupère ce qu'on a copié depuis le site\n",
        "    \n",
        "    if departements_associe != restart: # la valeur copié est différent de restart\n",
        "        if departements_associe == stop: # on arrête la boucle si on a copié stop\n",
        "            print(\"On a fini de copier\")\n",
        "            break \n",
        "        else: # sinon\n",
        "            departements_associe = departements_associe.lower() # on change en lower()\n",
        "            departements_associes.append(departements_associe)  # on a ajoute à la liste\n",
        "            print(f\"departements_associes de {departements_associe} copiée\") \n",
        "            print(\"\\n\")  # saut de ligne \n",
        "            clipboard.copy(restart) # on recommence en mettant copiant start avec la fonction copy"
      ],
      "id": "nqwPEzAjfAq2"
    },
    {
      "cell_type": "markdown",
      "metadata": {
        "id": "cAuIMHw2fAq3"
      },
      "source": [
        "### Q3: Afficher la liste des départements et vérifier bien la taille des 2 listes. On a normalement 14 régions et 14 liste de départements pour chaque régions.\n"
      ],
      "id": "cAuIMHw2fAq3"
    },
    {
      "cell_type": "code",
      "execution_count": null,
      "metadata": {
        "id": "WQPyN3VFfAq3",
        "outputId": "2498a031-e836-4594-fee9-5b3255533b0f"
      },
      "outputs": [
        {
          "name": "stdout",
          "output_type": "stream",
          "text": [
            "['guédiawaye\\r\\npikine\\r\\nrufisque', 'bambey\\r\\ndiourbel\\r\\nmbacké', 'foundiougne\\r\\ngossas', 'guinguinéo\\r\\nnioro du rip', 'vélingara\\r\\nmédina yoro foulah', 'kébémer\\r\\nlinguère', 'kanel\\r\\nmatam\\r\\nranérou', 'dagana\\r\\npodor', 'bakel\\r\\nkoumpentoum\\r\\ntambacounda\\r\\ngoudiry', \"m'bour\\r\\nthiès\\r\\ntivaouane\", '\\tbignogna\\r\\noussouye', '\\tbirkilane\\r\\nkaffrine\\r\\nmalem-hodar\\r\\nkounghel', 'salemata\\r\\nsaraya', 'bounkiling\\r\\ngoudomp', 'stop ']\n"
          ]
        }
      ],
      "source": [
        "## afficher la liste de départements\n",
        "print(departements_associes)"
      ],
      "id": "WQPyN3VFfAq3"
    },
    {
      "cell_type": "code",
      "execution_count": null,
      "metadata": {
        "id": "v3Ds1eFIfAq3",
        "outputId": "a37e4d01-cd85-423b-94b9-7b0dce9ee462"
      },
      "outputs": [
        {
          "data": {
            "text/plain": [
              "['guédiawaye\\r\\npikine\\r\\nrufisque',\n",
              " 'bambey\\r\\ndiourbel\\r\\nmbacké',\n",
              " 'foundiougne\\r\\ngossas',\n",
              " 'guinguinéo\\r\\nnioro du rip',\n",
              " 'vélingara\\r\\nmédina yoro foulah',\n",
              " 'kébémer\\r\\nlinguère',\n",
              " 'kanel\\r\\nmatam\\r\\nranérou',\n",
              " 'dagana\\r\\npodor',\n",
              " 'bakel\\r\\nkoumpentoum\\r\\ntambacounda\\r\\ngoudiry',\n",
              " \"m'bour\\r\\nthiès\\r\\ntivaouane\",\n",
              " 'bignogna\\r\\noussouye',\n",
              " 'birkilane\\r\\nkaffrine\\r\\nmalem-hodar\\r\\nkounghel',\n",
              " 'salemata\\r\\nsaraya',\n",
              " 'bounkiling\\r\\ngoudomp',\n",
              " 'stop ']"
            ]
          },
          "execution_count": 802,
          "metadata": {},
          "output_type": "execute_result"
        }
      ],
      "source": [
        "departements_associes = [departements_associe.replace('\\t', '') for departements_associe in departements_associes]\n",
        "departements_associes"
      ],
      "id": "v3Ds1eFIfAq3"
    },
    {
      "cell_type": "code",
      "execution_count": null,
      "metadata": {
        "id": "Y69LuvzvfAq4",
        "outputId": "5435bf6f-c1c5-4972-9e30-3a17d710ec17"
      },
      "outputs": [
        {
          "name": "stdout",
          "output_type": "stream",
          "text": [
            "['dakar', 'diourbel', 'fatick', 'kaolack', 'kolda', 'louga', 'matam', 'saint-louis', 'tambacounda', 'thiès', 'ziguinchor', 'kaffrine', 'kédougou', 'sédhiou']\n"
          ]
        }
      ],
      "source": [
        "## afficher la liste de regions\n",
        "print(regions)  "
      ],
      "id": "Y69LuvzvfAq4"
    },
    {
      "cell_type": "code",
      "execution_count": null,
      "metadata": {
        "id": "X8D8lCECfAq4",
        "outputId": "5d4cbd89-d6ef-411a-a663-802120c50fd7"
      },
      "outputs": [
        {
          "name": "stdout",
          "output_type": "stream",
          "text": [
            "14 15\n"
          ]
        }
      ],
      "source": [
        "## afficher la taille des deux listesq\n",
        "print(len(regions), len(departements_associes))"
      ],
      "id": "X8D8lCECfAq4"
    },
    {
      "cell_type": "markdown",
      "metadata": {
        "id": "zgNwpuRefAq5"
      },
      "source": [
        "* **NB:** Vous avez forcément remarqué que pour une région donnée, ces départements sont dans dans un même string: ce qui est bien embêtant. Heureusement que les départements sont séparés par le caractère **\\r\\n**. Nous allons basculer sur un format plus simple (liste). On va transformer chaque string de départements par une liste de département. On utilisera la méthode **.split()** en mettant ce qu'il faut comme argument."
      ],
      "id": "zgNwpuRefAq5"
    },
    {
      "cell_type": "markdown",
      "metadata": {
        "id": "nUaXJ98PfAq5"
      },
      "source": [
        "\n",
        "\n",
        "### Q.4 Créer une nouvelle variable de type liste nommée `liste_liste_departement` qui va contenir la liste des département pour chaque région en utilisant la méthode `.split` en mettant le bon argument. Cette liste doit être dans le même ordre que la liste `departements_associes`.\n",
        "\n",
        "* NB: Evidemment **dakar** est bien un département de la région de **dakar** et en tant que prof vous ne voulez pas attribuer des points aussi facilement. On enlevera donc le département portant le même nom que la région dans la liste des départements pour une région donnée. "
      ],
      "id": "nUaXJ98PfAq5"
    },
    {
      "cell_type": "code",
      "execution_count": null,
      "metadata": {
        "scrolled": true,
        "id": "EuSSqN7xfAq5",
        "outputId": "0f365b95-c4f2-40a0-e2cb-45b881f496e1"
      },
      "outputs": [
        {
          "data": {
            "text/plain": [
              "['guédiawaye\\r\\npikine\\r\\nrufisque',\n",
              " 'bambey\\r\\ndiourbel\\r\\nmbacké',\n",
              " 'foundiougne\\r\\ngossas',\n",
              " 'guinguinéo\\r\\nnioro du rip',\n",
              " 'vélingara\\r\\nmédina yoro foulah',\n",
              " 'kébémer\\r\\nlinguère',\n",
              " 'kanel\\r\\nmatam\\r\\nranérou',\n",
              " 'dagana\\r\\npodor',\n",
              " 'bakel\\r\\nkoumpentoum\\r\\ntambacounda\\r\\ngoudiry',\n",
              " \"m'bour\\r\\nthiès\\r\\ntivaouane\",\n",
              " 'bignogna\\r\\noussouye',\n",
              " 'birkilane\\r\\nkaffrine\\r\\nmalem-hodar\\r\\nkounghel',\n",
              " 'salemata\\r\\nsaraya',\n",
              " 'bounkiling\\r\\ngoudomp',\n",
              " 'stop ']"
            ]
          },
          "execution_count": 805,
          "metadata": {},
          "output_type": "execute_result"
        }
      ],
      "source": [
        "departements_associes"
      ],
      "id": "EuSSqN7xfAq5"
    },
    {
      "cell_type": "code",
      "execution_count": null,
      "metadata": {
        "id": "L_YUMHW4fAq5"
      },
      "outputs": [],
      "source": [
        "### votre réponse\n",
        "liste_liste_departement = []\n",
        "\n",
        "for i, departements in enumerate(departements_associes):\n",
        "    departements=departements.split(\"\\r\\n\")\n",
        "    liste_liste_departement.append(departements)\n",
        "    \n",
        "    ### TODO\n",
        "    \n",
        "    "
      ],
      "id": "L_YUMHW4fAq5"
    },
    {
      "cell_type": "code",
      "execution_count": null,
      "metadata": {
        "id": "7-dJbzUIfAq5",
        "outputId": "a73c2a05-19ef-498f-b093-f50d6cb68080"
      },
      "outputs": [
        {
          "name": "stdout",
          "output_type": "stream",
          "text": [
            "[['guédiawaye', 'pikine', 'rufisque'], ['bambey', 'diourbel', 'mbacké'], ['foundiougne', 'gossas'], ['guinguinéo', 'nioro du rip'], ['vélingara', 'médina yoro foulah'], ['kébémer', 'linguère'], ['kanel', 'matam', 'ranérou'], ['dagana', 'podor'], ['bakel', 'koumpentoum', 'tambacounda', 'goudiry'], [\"m'bour\", 'thiès', 'tivaouane'], ['bignogna', 'oussouye'], ['birkilane', 'kaffrine', 'malem-hodar', 'kounghel'], ['salemata', 'saraya'], ['bounkiling', 'goudomp'], ['stop ']]\n"
          ]
        }
      ],
      "source": [
        "print(liste_liste_departement)"
      ],
      "id": "7-dJbzUIfAq5"
    },
    {
      "cell_type": "markdown",
      "metadata": {
        "id": "XzDBJ3HgfAq6"
      },
      "source": [
        "On va maintenant regrouper les deux infos (regions & départements). \n",
        "Pour cela, on va utiliser le format dictionnaire.\n",
        "\n",
        "### Q5. Créer le dictionnaire `region_departements` dont les clés sont les régions et les valeurs sont les listes de départements associés\n",
        "\n",
        "```python\n",
        "print(region_departements[\"dakar\"]) # clé \"dakar\"\n",
        "\n",
        ">>> ['guédiawaye', 'pikine', 'rufisque'] # la valeur attendu pour dakar\n",
        "```"
      ],
      "id": "XzDBJ3HgfAq6"
    },
    {
      "cell_type": "code",
      "execution_count": null,
      "metadata": {
        "id": "fhs7yVRIfAq6",
        "outputId": "57093a2a-1f03-4f5c-aa8e-202fc14b9d80",
        "colab": {
          "base_uri": "https://localhost:8080/",
          "height": 235
        }
      },
      "outputs": [
        {
          "output_type": "error",
          "ename": "NameError",
          "evalue": "ignored",
          "traceback": [
            "\u001b[0;31m---------------------------------------------------------------------------\u001b[0m",
            "\u001b[0;31mNameError\u001b[0m                                 Traceback (most recent call last)",
            "\u001b[0;32m<ipython-input-1-cc272db6d7d6>\u001b[0m in \u001b[0;36m<module>\u001b[0;34m()\u001b[0m\n\u001b[1;32m      1\u001b[0m \u001b[0;34m\u001b[0m\u001b[0m\n\u001b[1;32m      2\u001b[0m \u001b[0;31m### TODO: votre code\u001b[0m\u001b[0;34m\u001b[0m\u001b[0;34m\u001b[0m\u001b[0;34m\u001b[0m\u001b[0m\n\u001b[0;32m----> 3\u001b[0;31m region_departements = dict({'dakar':liste_liste_departement[0],\n\u001b[0m\u001b[1;32m      4\u001b[0m                            \u001b[0;34m'diourbel'\u001b[0m\u001b[0;34m:\u001b[0m\u001b[0mliste_liste_departement\u001b[0m\u001b[0;34m[\u001b[0m\u001b[0;36m1\u001b[0m\u001b[0;34m]\u001b[0m\u001b[0;34m,\u001b[0m\u001b[0;34m\u001b[0m\u001b[0;34m\u001b[0m\u001b[0m\n\u001b[1;32m      5\u001b[0m                            \u001b[0;34m'fatick'\u001b[0m\u001b[0;34m:\u001b[0m\u001b[0mliste_liste_departement\u001b[0m\u001b[0;34m[\u001b[0m\u001b[0;36m2\u001b[0m\u001b[0;34m]\u001b[0m\u001b[0;34m,\u001b[0m\u001b[0;34m\u001b[0m\u001b[0;34m\u001b[0m\u001b[0m\n",
            "\u001b[0;31mNameError\u001b[0m: name 'liste_liste_departement' is not defined"
          ]
        }
      ],
      "source": [
        "\n",
        "### TODO: votre code \n",
        "region_departements = dict({'dakar':liste_liste_departement[0],\n",
        "                           'diourbel':liste_liste_departement[1],\n",
        "                           'fatick':liste_liste_departement[2],\n",
        "                           'kaolack':liste_liste_departement[3],\n",
        "                           'kolda':liste_liste_departement[4],\n",
        "                           'louga':liste_liste_departement[5],\n",
        "                           'matam':liste_liste_departement[6],\n",
        "                           'saint-louis':liste_liste_departement[7],\n",
        "                           'tambacounda':liste_liste_departement[8],\n",
        "                           'thiès':liste_liste_departement[9],\n",
        "                           'ziguinchor':liste_liste_departement[10],\n",
        "                           'kaffrine':liste_liste_departement[11],\n",
        "                           'kédougou':liste_liste_departement[12],\n",
        "                           'sédhiou':liste_liste_departement[13]})\n",
        "\n",
        "\n",
        "### ajouter les codes et valeurs\n"
      ],
      "id": "fhs7yVRIfAq6"
    },
    {
      "cell_type": "code",
      "execution_count": null,
      "metadata": {
        "id": "TioEIuwWfAq6"
      },
      "outputs": [],
      "source": [
        "print(region_departements)"
      ],
      "id": "TioEIuwWfAq6"
    },
    {
      "cell_type": "code",
      "execution_count": null,
      "metadata": {
        "id": "PpqNg2QnfAq6"
      },
      "outputs": [],
      "source": [
        ""
      ],
      "id": "PpqNg2QnfAq6"
    },
    {
      "cell_type": "code",
      "execution_count": null,
      "metadata": {
        "id": "xxBmVEGsfAq7"
      },
      "outputs": [],
      "source": [
        "region_departements"
      ],
      "id": "xxBmVEGsfAq7"
    },
    {
      "cell_type": "code",
      "execution_count": null,
      "metadata": {
        "id": "i8juiR-2fAq7"
      },
      "outputs": [],
      "source": [
        "liste_liste_departement"
      ],
      "id": "i8juiR-2fAq7"
    },
    {
      "cell_type": "code",
      "execution_count": null,
      "metadata": {
        "id": "M2bU8pEpfAq7"
      },
      "outputs": [],
      "source": [
        "region_departements"
      ],
      "id": "M2bU8pEpfAq7"
    },
    {
      "cell_type": "code",
      "execution_count": null,
      "metadata": {
        "id": "hIX-nGuRfAq7"
      },
      "outputs": [],
      "source": [
        "region_departements.values()"
      ],
      "id": "hIX-nGuRfAq7"
    },
    {
      "cell_type": "code",
      "execution_count": null,
      "metadata": {
        "id": "3kTNs97KfAq7"
      },
      "outputs": [],
      "source": [
        "for elements in region_departements.values():\n",
        "    for element in elements:\n",
        "        for i in region_departements.keys():\n",
        "            if element ==i:\n",
        "                elements.pop(element)    \n",
        "                print(elements)"
      ],
      "id": "3kTNs97KfAq7"
    },
    {
      "cell_type": "code",
      "execution_count": null,
      "metadata": {
        "id": "TWEc0crjfAq8"
      },
      "outputs": [],
      "source": [
        "region_departements"
      ],
      "id": "TWEc0crjfAq8"
    },
    {
      "cell_type": "markdown",
      "metadata": {
        "id": "Xqh907dsfAq8"
      },
      "source": [
        "Voici la résultat attendu pour le dictionnaire `region_departements`:\n",
        "\n",
        "```python\n",
        "{'dakar': ['guédiawaye', 'pikine', 'rufisque'], \n",
        " 'diourbel': ['bambey', 'mbacké'], \n",
        " 'fatick': ['foundiougne', 'gossas'], \n",
        " 'kaolack': ['guinguinéo', 'nioro du rip'], \n",
        " 'kolda': ['vélingara', 'médina yoro foulah'], \n",
        " 'louga': ['kébémer', 'linguère'], \n",
        " 'matam': ['kanel', 'ranérou'], \n",
        " 'saint-louis': ['dagana', 'podor'], \n",
        " 'tambacounda': ['bakel', 'koumpentoum', 'goudiry'], \n",
        " 'thiès': [\"m'bour\", 'tivaouane'], \n",
        " 'ziguinchor': ['bignogna', 'oussouye'], \n",
        " 'kaffrine': ['birkilane', 'malem-hodar', 'kounghel'], \n",
        " 'kédougou': ['salemata', 'saraya'], \n",
        " 'sédhiou': ['bounkiling', 'goudomp']\n",
        "}\n",
        "```"
      ],
      "id": "Xqh907dsfAq8"
    },
    {
      "cell_type": "markdown",
      "metadata": {
        "id": "Ixv-CTq9fAq8"
      },
      "source": [
        "* Maintenant qu'on a finit la partie récupération des données, on peut s'attaquer à la création de quiz"
      ],
      "id": "Ixv-CTq9fAq8"
    },
    {
      "cell_type": "markdown",
      "metadata": {
        "id": "kcjHFjWyfAq8"
      },
      "source": [
        "### II. Création des quiz\n",
        "\n",
        "Rappelez-vous que nous voulons créer 35 quiz (1 pour chaque élève) et on veut bien que l'ordre des questions soit aléatoire ainsi que l'ordre des réponses potentielles.\n",
        "\n",
        "\n",
        "Voici ce qu'on veut:\n",
        "\n",
        "1. Créer 35 quiz différents\n",
        "2. Créer 14 questions (car 14 régions) à choix multiples pour chaque quiz, et dans un ordre aléatoire.\n",
        "3. Bien mettre les bonnes réponses et des mauvaises réponses aléatoires pour chaque question, dans un ordre aléatoire.\n",
        "4. On écrit les quiz dans 35 fichiers **.txt**\n",
        "\n",
        "Cela signifie que le code devra effectuer les opérations suivantes :\n",
        "\n",
        "Appelez ```open()```, ```write()``` et ```close()``` pour les fichiers **.txt** du quiz et des réponses. \n",
        "On tilisera ```random.shuffle()``` pour randomiser l'ordre des questions et les options à choix multiples."
      ],
      "id": "kcjHFjWyfAq8"
    },
    {
      "cell_type": "markdown",
      "metadata": {
        "id": "e97DwoGbfAq8"
      },
      "source": [
        "### II.1 Création d'un quiz\n",
        "\n",
        "On veut faire plus simple en codant une fonction capable de générer un quiz en lui donnant simplement en argument le numéro de l'élève. Les élèves sont numerotés de 1 à 35 (il y'a 35 élèves).  \n"
      ],
      "id": "e97DwoGbfAq8"
    },
    {
      "cell_type": "markdown",
      "metadata": {
        "id": "Jg3IZfr1fAq8"
      },
      "source": [
        "* On va d'abord coder une fonction `reponse_potentielle` capable de proposer des réponses potentielles pour une région du Senegal donnée.\n",
        "\n",
        "1. A partir de l'argument `region`, on pourra bien récupérer la liste des vrais départements `reponses_vraies` à partir du dictionnaire `region_departements`. \n",
        "\n",
        "2. Il faut aussi ajouter des réponses fausses pour complexifier les questions. On va pour cela récupérer les départements d'une regions quelconque différente du contenu de la variable `region`.\n",
        "\n",
        "    1. On va pour cela choisir aléatoirement une **région différente** parmi la liste des 14 régions. La liste des régions qu'on va stocker dans une variable `autres_régions` qu'on peut s'obtenir à partir du dictionnaire `region_departements` avec la commande `region_departements.keys()`. **NB:** il faut convertir en liste bien sûr. \n",
        "    \n",
        "    3. Puis supprimez `region` de la liste des regions avec la méthode **`.remove()`**\n",
        "    \n",
        "    4. Utilisez la fonction **`choice`** du module **`random`** pour choisir une autre region (`autre_region`) dans `autres_regions`. \n",
        "    \n",
        "    5. récupérez la liste des départements de `autre_region` nommées `reponses_fausses`.\n",
        "    \n",
        "    6. Concaténez les listes `reponses_vraies` et `reponses_fausses` et stockez le résultat dans une varible nommée `reponses`\n",
        "     \n",
        "    7. Mélanger l'ordre des bonnes et mauvaises réponses avec la fonction **`shuffle`** du module **`random`**.\n",
        "     \n",
        "3. A ce stage pour la region `dakar` par exemple, vous vous retrouverez potentiellement avec la liste suivante ```['guédiawaye', 'bambey', 'pikine', 'mbacké', 'rufisque']```. Ce n'est qu'un exemple où pour la region de dakar on se retrouve avec une liste de ces départements avec d'autres départements (ceux de **diourbel**) mais mélangés. A patir cette liste, il faudra générer le string suivant avec la méthode `.join()` (qui permet de créer un string à partir d'une liste avec une séparateur (on l'a vu en cours)) :\n",
        "\n",
        "`[ ]guédiawaye, [ ]bambey, [ ]pikine, [ ]mbacké, [ ]rufisque`\n",
        "\n",
        "En gros on a juste ajouter des cases à cacher par les étudiants pour choisir leurs réponses. Il faudra renvoyez ce string nommées `reponses_formatees` à la fin de la fonction."
      ],
      "id": "Jg3IZfr1fAq8"
    },
    {
      "cell_type": "code",
      "execution_count": null,
      "metadata": {
        "id": "WWT9oCpwfAq9",
        "outputId": "64d32534-bf2d-4421-b7ea-ec1edb04f6b7"
      },
      "outputs": [
        {
          "data": {
            "text/plain": [
              "[['guédiawaye', 'pikine', 'rufisque'],\n",
              " ['bambey', 'mbacké'],\n",
              " ['foundiougne', 'gossas'],\n",
              " ['guinguinéo', 'nioro du rip'],\n",
              " ['vélingara', 'médina yoro foulah'],\n",
              " ['kébémer', 'linguère'],\n",
              " ['kanel', 'ranérou'],\n",
              " ['dagana', 'podor'],\n",
              " ['bakel', 'koumpentoum', 'goudiry'],\n",
              " [\"m'bour\", 'tivaouane'],\n",
              " ['bignogna', 'oussouye'],\n",
              " ['birkilane', 'malem-hodar', 'kounghel'],\n",
              " ['salemata', 'saraya'],\n",
              " ['bounkiling', 'goudomp']]"
            ]
          },
          "execution_count": 941,
          "metadata": {},
          "output_type": "execute_result"
        }
      ],
      "source": [
        "region='dakar'\n",
        "reponses_vraies = region_departements[region]\n",
        "reponses_vraies\n",
        "autres_regions =list(region_departements.keys())\n",
        "autres_regions\n",
        "autres_regions.remove(region)\n",
        "autres_regions\n",
        "reponses_fausses =list(region_departements.values())\n",
        "reponses_fausses"
      ],
      "id": "WWT9oCpwfAq9"
    },
    {
      "cell_type": "code",
      "execution_count": null,
      "metadata": {
        "id": "3i1qFuc4fAq9"
      },
      "outputs": [],
      "source": [
        " ## TODO: importer le module random\n",
        "import random  # a completer\n"
      ],
      "id": "3i1qFuc4fAq9"
    },
    {
      "cell_type": "code",
      "execution_count": null,
      "metadata": {
        "id": "ZLeAD6vKfAq9",
        "outputId": "2cf86dcc-97f7-4f67-ded0-a834f5446c7d"
      },
      "outputs": [
        {
          "data": {
            "text/plain": [
              "list"
            ]
          },
          "execution_count": 943,
          "metadata": {},
          "output_type": "execute_result"
        }
      ],
      "source": [
        "type(region_departements[region])"
      ],
      "id": "ZLeAD6vKfAq9"
    },
    {
      "cell_type": "code",
      "execution_count": null,
      "metadata": {
        "id": "PM2A2_aQfAq9"
      },
      "outputs": [],
      "source": [
        "def reponse_potentielle(region, region_departements): \n",
        "    \n",
        "    reponses_vraies  =region_departements[region]#vraies réponses  \n",
        "    # créer autres_regions\n",
        "    autres_regions =list(region_departements.keys())\n",
        "    \n",
        "    # enlever region de la liste autres_regions\n",
        "    autres_regions.remove(region) # completer\n",
        "    \n",
        "    # choisir une region au hazard\n",
        "    autre_region =random.choice(autres_regions)\n",
        "    \n",
        "    # récupérer les departements de autre_region dans la variable reponses_fausses\n",
        "    reponses_fausses =  region_departements[autre_region]\n",
        "    \n",
        "    # concaténer reponses_vraies et  reponses_fausses\n",
        "    reponses_possibles =  reponses_vraies +  reponses_fausses\n",
        "    \n",
        "    random.shuffle(reponses_possibles) ## mélanger les réponses\n",
        "    \n",
        "    reponses_formatees = '[]'+\"[]\".join(  reponses_possibles ) #vous ce completer aussi\n",
        "    \n",
        "    return  reponses_formatees          "
      ],
      "id": "PM2A2_aQfAq9"
    },
    {
      "cell_type": "code",
      "execution_count": null,
      "metadata": {
        "scrolled": true,
        "id": "ajakJQ1_fAq-",
        "outputId": "504bdbc7-a18f-44e6-8b21-65636c79d531"
      },
      "outputs": [
        {
          "data": {
            "text/plain": [
              "'kédougou'"
            ]
          },
          "execution_count": 945,
          "metadata": {},
          "output_type": "execute_result"
        }
      ],
      "source": [
        "autres_regions =list(region_departements.keys())\n",
        "autre_region = random.choice(autres_regions)\n",
        "autre_region"
      ],
      "id": "ajakJQ1_fAq-"
    },
    {
      "cell_type": "code",
      "execution_count": null,
      "metadata": {
        "id": "1gdEld9TfAq-",
        "outputId": "306fa249-3b72-49b5-aede-16d6a6dd2ec4"
      },
      "outputs": [
        {
          "data": {
            "text/plain": [
              "'[]guédiawaye[]pikine[]kanel[]ranérou[]rufisque'"
            ]
          },
          "execution_count": 946,
          "metadata": {},
          "output_type": "execute_result"
        }
      ],
      "source": [
        "## Exécuter la cellule suivante pour bien voir que le résultat change à chaque éxecution\n",
        "\n",
        "### Vous devrez voir les départements de dakar et autres départements choisis alétoirement\n",
        "reponse_potentielle('dakar', region_departements)"
      ],
      "id": "1gdEld9TfAq-"
    },
    {
      "cell_type": "markdown",
      "metadata": {
        "id": "pEcFTU71fAq-"
      },
      "source": [
        "\n",
        "\n",
        "### Q6 Créer une fonction nommée `genere_quiz` prenant en argument le dictionnaire `region_departements` et le numéro de l'élève `num_eleve` et génére un quiz.\n",
        "\n",
        "On mettra les quiz dans un dossier à créer dans votre répertoire courant nommée **fichiers_quiz**\n",
        "Les fichiers quiz seront nommés de la façon suivante en fonction du numéro de l'élève: __fichier_quiz_1.txt, fichier_quiz_2.txt, ..., fichier_quiz_35.txt__ \n",
        "\n",
        "- Un fichier __fichier_quiz_1.txt__ doit s'apparenter de la manière suivante:\n",
        "\n",
        "```\n",
        "Cochez les bonnes réponses pour chaque région\n",
        "Q1) Dakar\n",
        "[]rufisque, []nioro du rip, []pikine, []guinguinéo, []guédiawaye\n",
        "\n",
        "Q2) Diourbel\n",
        "[]malem-hodar, []kounghel, []bambey, []mbacké, []birkilane\n",
        "\n",
        "Q3) Fatick\n",
        "[]foundiougne, []gossas, []vélingara, []médina yoro foulah\n",
        "\n",
        ".\n",
        ".\n",
        ".\n",
        "etc\n",
        "```\n",
        "\n",
        "- Il faut donc écrire les questions sur une ligne et les réponses associées sur une nouvelle ligne juste en dessous. On peut le faire avec la fonction **.write()**. Pensez bien à sauter une ligne avec **.write(\"\\n\")** avant d'écrire. Vous comprenez aussi qu'il faudra utiliser la fonction **potentielle_reponse** pour générer les réponses pour chaque question."
      ],
      "id": "pEcFTU71fAq-"
    },
    {
      "cell_type": "code",
      "execution_count": null,
      "metadata": {
        "id": "LNrIVYsWfAq-"
      },
      "outputs": [],
      "source": [
        "import os\n",
        "\n",
        "chemin_dossier = \"./fichiers_quiz\"\n",
        "\n",
        "os.makedirs(\"./fichiers_quiz\") # à completer"
      ],
      "id": "LNrIVYsWfAq-"
    },
    {
      "cell_type": "code",
      "execution_count": null,
      "metadata": {
        "id": "5o8NAJgafAq-"
      },
      "outputs": [],
      "source": [
        "## code à completer\n",
        "\n",
        "def genere_quiz(region_departements, chemin_dossier, num_eleve=3):\n",
        "    \n",
        "    \"\"\"\n",
        "    Cette fonction permet de créer un fichier de quiz pour \n",
        "    un numéra d'élève donné.\n",
        "    Pour exemple pour l'élève numéro 13, \n",
        "    le fichier sera nommé fichier_quiz_13.txt stocké dans le dossier fichiers_quiz\n",
        "    Le chemin pour le fichier est \"fichiers_quiz/fichier_quiz_13.txt\"\n",
        "  \n",
        "    \"\"\"\n",
        "    \n",
        "    ## créer/ouvrer un fichier quiz. On fait bien attention au nom du fichier et le chemin \n",
        "    \n",
        "    chemin_fichier = chemin_dossier + \"/\"+ \"fichier_quiz_num_eleve.txt\" # a completer\n",
        "    \n",
        "    quiz_file = open(\"./fichiers_quiz/fichier_quiz_\"+str(num_eleve)+\".txt\", mode=\"w\") # a completer\n",
        "    quiz_file.write(\"Cochez les bons départments pour chaque région\")\n",
        "    quiz_file.write(\"\\n\")\n",
        "    \n",
        "    # TODO: récupérer la iste des régions à partir du dictionnaire region_departements avec .keys()\n",
        "    ### faites attention à bien convertir la variable regions en liste\n",
        "    regions =  region_departements.keys()  \n",
        "    regions =  list(region_departements.keys())   # convertir en liste\n",
        "    \n",
        "    ## Mélanger l'ordre des régions de la liste \"regions\" avec la shuffle\n",
        "    random.shuffle(regions) # à completer\n",
        "    \n",
        "    # créer les questions pour chaque réponses\n",
        "    \n",
        "    for num_question, region in enumerate(regions): # i est la ième question du quiz\n",
        "        \n",
        "        quiz_file.write(\"\\n\")   # saut de ligne (à completer)\n",
        "        \n",
        "        ## Ecrire une question (Regarder la cellule où est montré le format attendu (cellule précedente))\n",
        "       \n",
        "        quiz_file.write(\"Q\"+str(num_question)+\")\"+region+\"\\n\") #(à completer)\n",
        "        \n",
        "        ## écrire les réponses\n",
        "        reponses = reponse_potentielle(region, region_departements) # utiliser la fonction reponse_potentielle (à completer)\n",
        "        \n",
        "        quiz_file.write(reponses) # (à completer)\n",
        "        \n",
        "        quiz_file.write(\"\\n\")   # saut de ligne (à completer)\n",
        "                \n",
        "    quiz_file.close()"
      ],
      "id": "5o8NAJgafAq-"
    },
    {
      "cell_type": "code",
      "execution_count": null,
      "metadata": {
        "id": "GyM0maxEfAq_",
        "outputId": "126e6a7b-a292-459c-a56f-4c52f7ca34a8",
        "colab": {
          "base_uri": "https://localhost:8080/",
          "height": 183
        }
      },
      "outputs": [
        {
          "output_type": "error",
          "ename": "NameError",
          "evalue": "ignored",
          "traceback": [
            "\u001b[0;31m---------------------------------------------------------------------------\u001b[0m",
            "\u001b[0;31mNameError\u001b[0m                                 Traceback (most recent call last)",
            "\u001b[0;32m<ipython-input-3-ccf72e3e9e20>\u001b[0m in \u001b[0;36m<module>\u001b[0;34m()\u001b[0m\n\u001b[1;32m      1\u001b[0m \u001b[0;31m## un test\u001b[0m\u001b[0;34m\u001b[0m\u001b[0;34m\u001b[0m\u001b[0;34m\u001b[0m\u001b[0m\n\u001b[0;32m----> 2\u001b[0;31m \u001b[0mgenere_quiz\u001b[0m\u001b[0;34m(\u001b[0m\u001b[0mregion_departements\u001b[0m\u001b[0;34m,\u001b[0m \u001b[0mchemin_dossier\u001b[0m\u001b[0;34m,\u001b[0m \u001b[0mnum_eleve\u001b[0m\u001b[0;34m=\u001b[0m\u001b[0;36m3\u001b[0m\u001b[0;34m)\u001b[0m\u001b[0;34m\u001b[0m\u001b[0;34m\u001b[0m\u001b[0m\n\u001b[0m",
            "\u001b[0;31mNameError\u001b[0m: name 'region_departements' is not defined"
          ]
        }
      ],
      "source": [
        "## un test \n",
        "genere_quiz(region_departements, chemin_dossier, num_eleve=3)"
      ],
      "id": "GyM0maxEfAq_"
    },
    {
      "cell_type": "markdown",
      "metadata": {
        "id": "G3dFjvNdfAq_"
      },
      "source": [
        "### Enfin !!!!!\n",
        "\n",
        "Nous avons créer une fonction capable de générer un quiz à partir d'un numéro. Nous allons donc créer des quiz pour chaque élève un faisant une boucle for.\n",
        "Résultat attendu dans le dossier **fichiers_quiz**: __fichier_quiz_1.txt, fichier_quiz_2.txt, ..., fichier_quiz_35.txt__ \n"
      ],
      "id": "G3dFjvNdfAq_"
    },
    {
      "cell_type": "code",
      "execution_count": null,
      "metadata": {
        "id": "u-ucdU52fAq_"
      },
      "outputs": [],
      "source": [
        "for num_eleve in range(35):\n",
        "\n",
        "    # utiliser la fonction  genere_quiz pour générer le quiz pour l'éleve numéro num_eleve. \n",
        "    # Mettez bien tous les arguments de la fonction\n",
        "    chemin_fichier = chemin_dossier + \"/\" +  \"fichier_quiz_\"+str(num_eleve)+\".txt\"\n",
        "    genere_quiz(region_departements, chemin_dossier, num_eleve) \n",
        "    "
      ],
      "id": "u-ucdU52fAq_"
    },
    {
      "cell_type": "code",
      "execution_count": null,
      "metadata": {
        "id": "pg9FsJjVfAq_"
      },
      "outputs": [],
      "source": [
        ""
      ],
      "id": "pg9FsJjVfAq_"
    },
    {
      "cell_type": "markdown",
      "metadata": {
        "id": "gFyCZs8NfAq_"
      },
      "source": [
        "\n",
        "\n",
        "\n",
        "\n",
        "\n",
        "\n",
        "\n",
        "\n",
        "\n",
        "\n",
        "### Pour allez plus loin !!!\n",
        "\n",
        "Ceci n'est pas une question. Vous n'êtes pas obligés de coder. Vous pouvez proposer des idées !!!\n",
        "Je vous laisse imaginer une idée de ce qu'on peut faire pour la suite avec les questionnaires. Peut-être générer les réponses pour chaque quiz !!!"
      ],
      "id": "gFyCZs8NfAq_"
    }
  ],
  "metadata": {
    "kernelspec": {
      "display_name": "Python 3",
      "language": "python",
      "name": "python3"
    },
    "language_info": {
      "codemirror_mode": {
        "name": "ipython",
        "version": 3
      },
      "file_extension": ".py",
      "mimetype": "text/x-python",
      "name": "python",
      "nbconvert_exporter": "python",
      "pygments_lexer": "ipython3",
      "version": "3.8.5"
    },
    "colab": {
      "name": "Sujet_Projet_Final_Python.ipynb",
      "provenance": []
    }
  },
  "nbformat": 4,
  "nbformat_minor": 5
}