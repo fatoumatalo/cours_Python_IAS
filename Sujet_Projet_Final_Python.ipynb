{
 "cells": [
  {
   "cell_type": "markdown",
   "id": "premier-killing",
   "metadata": {},
   "source": [
    "### Projet: Génération aléatoire de quiz \n",
    "\n"
   ]
  },
  {
   "cell_type": "markdown",
   "id": "monthly-mountain",
   "metadata": {},
   "source": [
    "Supposons que vous êtes un professeur de géographie avec **35 élèves** dans votre classe et que vous souhaitez faire un quiz sur les départements du Sénégal. Hélas, votre classe contient quelques mauvais œufs et vous ne pouvez pas faire confiance aux élèves pour qu'ils ne trichent pas. Vous souhaitez **randomiser** l'ordre des questions afin que chaque quiz soit unique, ce qui rend impossible pour quiconque de recueillir les réponses de quelqu'un d'autre. Bien sûr, le faire à la main serait une affaire **longue et ennuyeuse**. Heureusement, vous connaissez un peu Python.\n",
    "\n",
    "* Dans ce projet, l'idée est de faire un programme capable de générer aléatoireement des quiz en changeant l'ordre des questinons mais aussi l'ordre des réponses à proposer aux étudiants. Les étudiants vont donc devoir cocher une réponse parmis celles proposées. "
   ]
  },
  {
   "cell_type": "markdown",
   "id": "seasonal-mathematics",
   "metadata": {},
   "source": [
    "### I. Partie 1: Collecte des données pour la création du quiz\n",
    "\n",
    "Dans cette partie, nous allons d'abord cherchez les données (regions et départements associés) pour créer notre quiz.\n",
    "Nous allons un peu automatiser le processus de récupération des données.\n",
    "Nous récupérons les données depuis ce [site](https://www.sport-histoire.fr/Geographie/Liste_des_departements_et_regions_du_Senegal.php). Je vous conseille d'ouvrir le site et de voir un peu les données qu'on récupérer.\n",
    "\n",
    "* Une manière de le faire serait de faire du copier-coller car il n'y a pas beaucoup de données. Nous allons éviter ça !!! On accepte de faire le travail de **\"copier\"** et on laisse à python de se charger de coller ce qu'on a copié. Pour cela nous allons utiliser le module **clipboard** permettant à python d'accéder au **presse-papier** (là où l'ordinateur garde temporairement ce qu'on copie quand on copie du texte quelque part). \n",
    "\n",
    "* La cellule suivante permet d'installer **clipboard** et celle qui suit pour l'importer."
   ]
  },
  {
   "cell_type": "code",
   "execution_count": null,
   "id": "radical-adult",
   "metadata": {},
   "outputs": [],
   "source": [
    "### Pour installer clipboard car vous ne l'avez pas forcément sur votre ordi\n",
    "\n",
    "!pip install clipboard  "
   ]
  },
  {
   "cell_type": "code",
   "execution_count": null,
   "id": "compliant-bicycle",
   "metadata": {},
   "outputs": [],
   "source": [
    "import clipboard  # on import clipborad pour l'utiliser"
   ]
  },
  {
   "cell_type": "markdown",
   "id": "shared-vatican",
   "metadata": {},
   "source": [
    "#### I.1 Comprendre un peu clipboard\n",
    "\n",
    "Vous pouvez voir sur internet tout ce qu'on peut faire avec ce module mais vous en n'avez pas besoin. On a besoin que de deux fonctions de clipboard.\n",
    "\n",
    "* `clipboard.copy(\"Hello\")` pour copier un string et le mettre dans le presse-papier. \n",
    "    Q1: Executez uniquement la cellule suivante puis faites un **clique droit** puis **coller** n'importe où par exemple sur google pour voir que **clipboard.copy** a bien fait le job."
   ]
  },
  {
   "cell_type": "code",
   "execution_count": null,
   "id": "alive-height",
   "metadata": {},
   "outputs": [],
   "source": [
    "clipboard.copy(\"Hello\") # 1"
   ]
  },
  {
   "cell_type": "markdown",
   "id": "varied-documentary",
   "metadata": {},
   "source": [
    "* `clipboard.paste()` pour coller (au format string) ce qui se trouve dans le presse papier. Je vous conseille de copier n'importe quoi depuis google par exemple puis d'exécuter le cellule suivante pour coller."
   ]
  },
  {
   "cell_type": "code",
   "execution_count": null,
   "id": "proud-projection",
   "metadata": {},
   "outputs": [],
   "source": [
    "clipboard.paste()"
   ]
  },
  {
   "cell_type": "markdown",
   "id": "horizontal-project",
   "metadata": {},
   "source": [
    "#### I.2 Collecte des données avec clipboard\n",
    "\n",
    "Le programme suivant permet de copier les données qu'on va utiliser pour la suite.\n",
    "\n",
    "1. Ouvrez sur un nouveau onglet le lien du site suivant: https://www.sport-histoire.fr/Geographie/Liste_des_departements_et_regions_du_Senegal.php\n",
    "\n",
    "**NB: (il est préférable de mettre l'onglet du site et l'onglet du notebook pour mieux voir)**\n",
    "\n",
    "2. Exécuter la cellule suivante: Pour l'instant la cellule ne fait rien et c'est normal !!! Les explications pour comprendre le programme sont mises à côté des lignes de code.\n",
    "\n",
    "3. Copier la première région (Dakar) pour voir ce qui se passe. Le programme vous affiche bien un message disant qu'il  a fait le travail. Copiez la région suivante et ainsi de suite pour voir. \n",
    "\n",
    "4. Pour arrêter la boucle, je vous conseille de copier le contenu de la varible `stop` (de la cellule suivante) sans les guillemets simples, sinon vous risquez d'avoir un message d'erreur et dans ce cas faudra redémarrer le noyau de jupyter notebook (**Kernel > restart**), ce qui n'est par pratique !!!"
   ]
  },
  {
   "cell_type": "code",
   "execution_count": null,
   "id": "classified-concept",
   "metadata": {},
   "outputs": [],
   "source": [
    "stop = \"stop\"     # un string pour dire à python qu'on a finit d'ajouter des régions. Copier la valeur si on veut arrêter la collecte\n",
    "\n",
    "restart = \"restart\" # un string pour dire à python qu'on veut continuer à ajouter des régions\n",
    "\n",
    "\n",
    "regions = []  # un liste vide. On n'y mettra toutes les regions\n",
    "clipboard.copy(restart) # on commence le travail\n",
    "\n",
    "while True:\n",
    "    region = clipboard.paste() # on recupère ce qu'on a copié depuis le site\n",
    "    \n",
    "    if region != restart: # la valeur copié est différent de restart\n",
    "        if region == stop: # on arrête la boucle si on a copié stop\n",
    "            print(\"On a fini de copier\")\n",
    "            break\n",
    "        else: # sinon\n",
    "            region = region.lower() # on change en lower()\n",
    "            regions.append(region)  # on a ajoute à la liste\n",
    "            print(f\"region de {region} copiée\") \n",
    "            print(\"\\n\")  # saut de ligne \n",
    "            clipboard.copy(restart) # on recommence en mettant copiant start avec la fonction copy"
   ]
  },
  {
   "cell_type": "markdown",
   "id": "organized-aircraft",
   "metadata": {},
   "source": [
    "#### Q1 : Afficher le contenu de la variable regions avec la fonction prints. \n",
    "\n",
    "Concernant les régions, il se peut que les strings enregistrés soit accompagnés par le caractère **\"\\t\"** qui représente 2 espaces (tab). Vous devez les enlever!!!\n",
    "\n",
    "Je vous conseille de prendre un string se terminant par **\\t** pour voir comment vous feriez!!!. Le fonction **.split** pourrait servir. La méthode **.replace** pourrait servir aussi"
   ]
  },
  {
   "cell_type": "code",
   "execution_count": null,
   "id": "closing-exercise",
   "metadata": {},
   "outputs": [],
   "source": [
    "print(regions)"
   ]
  },
  {
   "cell_type": "code",
   "execution_count": null,
   "id": "informal-wisdom",
   "metadata": {},
   "outputs": [],
   "source": [
    "regions = [region.replace('\\t', '') for region in regions]"
   ]
  },
  {
   "cell_type": "code",
   "execution_count": null,
   "id": "direct-thomson",
   "metadata": {},
   "outputs": [],
   "source": [
    "regions"
   ]
  },
  {
   "cell_type": "markdown",
   "id": "false-apparatus",
   "metadata": {},
   "source": [
    "### Q2: Inspirez-vous de la boucle précédente pour récupérer les données de la colonne départements et le mettre dans une variable nommée `departements_associés` (sans accent pour les noms de variables)\n",
    "\n",
    "Il est important de récupérer les données dans l'ordre de récupération des régions pour que la position des regions dans la liste **`regions`** correspondent à la position de ces départements dans la liste  `departements_associes`. Et aussi en copiant les départements pour une région donnée, il faut bien copier tous ces départements. En adaptant le code de la cellule précédente veuillez à bien changer le nom des variables si nécessaire au risque d'écraser la liste des régions `regions`. On gardera les noms des départements au format **lower()** comme pour les régions."
   ]
  },
  {
   "cell_type": "code",
   "execution_count": null,
   "id": "specialized-residence",
   "metadata": {},
   "outputs": [],
   "source": [
    "## Votre code\n"
   ]
  },
  {
   "cell_type": "markdown",
   "id": "controlling-apartment",
   "metadata": {},
   "source": [
    "### Q3: Afficher la liste des départements et vérifier bien la taille des 2 listes. On a normalement 14 régions et 14 liste de départements pour chaque régions.\n"
   ]
  },
  {
   "cell_type": "code",
   "execution_count": null,
   "id": "absent-highland",
   "metadata": {},
   "outputs": [],
   "source": [
    "## afficher la liste de départements\n",
    "print(departements_associes)"
   ]
  },
  {
   "cell_type": "code",
   "execution_count": null,
   "id": "daily-graham",
   "metadata": {},
   "outputs": [],
   "source": [
    "## afficher la liste de regions\n",
    "print(regions)"
   ]
  },
  {
   "cell_type": "code",
   "execution_count": null,
   "id": "tested-psychology",
   "metadata": {},
   "outputs": [],
   "source": [
    "## afficher la taille des deux listes\n",
    "print(len(regions), len(departements_associes))"
   ]
  },
  {
   "cell_type": "markdown",
   "id": "social-digest",
   "metadata": {},
   "source": [
    "* **NB:** Vous avez forcément remarqué que pour une région donnée, ces départements sont dans dans un même string: ce qui est bien embêtant. Heureusement que les départements sont séparés par le caractère **\\r\\n**. Nous allons basculer sur un format plus simple (liste). On va transformer chaque string de départements par une liste de département. On utilisera la méthode **.split()** en mettant ce qu'il faut comme argument."
   ]
  },
  {
   "cell_type": "markdown",
   "id": "occupied-rapid",
   "metadata": {},
   "source": [
    "### Q.4 Créer une nouvelle variable de type liste nommée `liste_liste_departement` qui va contenir la liste des département pour chaque région en utilisant la méthode `.split` en mettant le bon argument. Cette liste doit être dans le même ordre que la liste `departements_associes`.\n",
    "\n",
    "* NB: Evidemment **dakar** est bien un département de la région de **dakar** et en tant que prof vous ne voulez pas attribuer des points aussi facilement. On enlevera donc le département portant le même nom que la région dans la liste des départements pour une région donnée. "
   ]
  },
  {
   "cell_type": "code",
   "execution_count": null,
   "id": "animated-sample",
   "metadata": {},
   "outputs": [],
   "source": [
    "departements_associes"
   ]
  },
  {
   "cell_type": "code",
   "execution_count": null,
   "id": "concrete-school",
   "metadata": {},
   "outputs": [],
   "source": [
    "### votre réponse\n",
    "\n",
    "liste_liste_departement = []\n",
    "\n",
    "for i, departements in enumerate(departements_associes):\n",
    "    ### TODO\n",
    "    ..."
   ]
  },
  {
   "cell_type": "code",
   "execution_count": null,
   "id": "aquatic-cotton",
   "metadata": {},
   "outputs": [],
   "source": [
    "print(liste_liste_departement)"
   ]
  },
  {
   "cell_type": "markdown",
   "id": "cellular-rapid",
   "metadata": {},
   "source": [
    "On va maintenant regrouper les deux infos (regions & départements). \n",
    "Pour cela, on va utiliser le format dictionnaire.\n",
    "\n",
    "### Q5. Créer le dictionnaire `region_departements` dont les clés sont les régions et les valeurs sont les listes de départements associés\n",
    "\n",
    "```python\n",
    "print(region_departements[\"dakar\"]) # clé \"dakar\"\n",
    "\n",
    ">>> ['guédiawaye', 'pikine', 'rufisque'] # la valeur attendu pour dakar\n",
    "```"
   ]
  },
  {
   "cell_type": "code",
   "execution_count": null,
   "id": "sudden-connecticut",
   "metadata": {},
   "outputs": [],
   "source": [
    "### TODO: votre code \n",
    "region_departements = dict()\n",
    "\n",
    "### ajouter les codes et valeurs\n"
   ]
  },
  {
   "cell_type": "code",
   "execution_count": null,
   "id": "illegal-mainland",
   "metadata": {},
   "outputs": [],
   "source": []
  },
  {
   "cell_type": "code",
   "execution_count": null,
   "id": "expanded-painting",
   "metadata": {},
   "outputs": [],
   "source": [
    "print(region_departements)"
   ]
  },
  {
   "cell_type": "markdown",
   "id": "accomplished-plate",
   "metadata": {},
   "source": [
    "Voici la résultat attendu pour le dictionnaire `region_departements`:\n",
    "\n",
    "```python\n",
    "{'dakar': ['guédiawaye', 'pikine', 'rufisque'], \n",
    " 'diourbel': ['bambey', 'mbacké'], \n",
    " 'fatick': ['foundiougne', 'gossas'], \n",
    " 'kaolack': ['guinguinéo', 'nioro du rip'], \n",
    " 'kolda': ['vélingara', 'médina yoro foulah'], \n",
    " 'louga': ['kébémer', 'linguère'], \n",
    " 'matam': ['kanel', 'ranérou'], \n",
    " 'saint-louis': ['dagana', 'podor'], \n",
    " 'tambacounda': ['bakel', 'koumpentoum', 'goudiry'], \n",
    " 'thiès': [\"m'bour\", 'tivaouane'], \n",
    " 'ziguinchor': ['bignogna', 'oussouye'], \n",
    " 'kaffrine': ['birkilane', 'malem-hodar', 'kounghel'], \n",
    " 'kédougou': ['salemata', 'saraya'], \n",
    " 'sédhiou': ['bounkiling', 'goudomp']\n",
    "}\n",
    "```"
   ]
  },
  {
   "cell_type": "markdown",
   "id": "hundred-duration",
   "metadata": {},
   "source": [
    "* Maintenant qu'on a finit la partie récupération des données, on peut s'attaquer à la création de quiz"
   ]
  },
  {
   "cell_type": "markdown",
   "id": "ethical-saskatchewan",
   "metadata": {},
   "source": [
    "### II. Création des quiz\n",
    "\n",
    "Rappelez-vous que nous voulons créer 35 quiz (1 pour chaque élève) et on veut bien que l'ordre des questions soit aléatoire ainsi que l'ordre des réponses potentielles.\n",
    "\n",
    "\n",
    "Voici ce qu'on veut:\n",
    "\n",
    "1. Créer 35 quiz différents\n",
    "2. Créer 14 questions (car 14 régions) à choix multiples pour chaque quiz, et dans un ordre aléatoire.\n",
    "3. Bien mettre les bonnes réponses et des mauvaises réponses aléatoires pour chaque question, dans un ordre aléatoire.\n",
    "4. On écrit les quiz dans 35 fichiers **.txt**\n",
    "\n",
    "Cela signifie que le code devra effectuer les opérations suivantes :\n",
    "\n",
    "Appelez ```open()```, ```write()``` et ```close()``` pour les fichiers **.txt** du quiz et des réponses. \n",
    "On tilisera ```random.shuffle()``` pour randomiser l'ordre des questions et les options à choix multiples."
   ]
  },
  {
   "cell_type": "markdown",
   "id": "brazilian-faculty",
   "metadata": {},
   "source": [
    "### II.1 Création d'un quiz\n",
    "\n",
    "On veut faire plus simple en codant une fonction capable de générer un quiz en lui donnant simplement en argument le numéro de l'élève. Les élèves sont numerotés de 1 à 35 (il y'a 35 élèves).  \n"
   ]
  },
  {
   "cell_type": "markdown",
   "id": "sensitive-intersection",
   "metadata": {},
   "source": [
    "* On va d'abord coder une fonction `reponse_potentielle` capable de proposer des réponses potentielles pour une région du Senegal donnée.\n",
    "\n",
    "1. A partir de l'argument `region`, on pourra bien récupérer la liste des vrais départements `reponses_vraies` à partir du dictionnaire `region_departements`. \n",
    "\n",
    "2. Il faut aussi ajouter des réponses fausses pour complexifier les questions. On va pour cela récupérer les départements d'une regions quelconque différente du contenu de la variable `region`.\n",
    "\n",
    "    1. On va pour cela choisir aléatoirement une **région différente** parmi la liste des 14 régions. La liste des régions qu'on va stocker dans une variable `autres_régions` qu'on peut s'obtenir à partir du dictionnaire `region_departements` avec la commande `region_departements.keys()`. **NB:** il faut convertir en liste bien sûr. \n",
    "    \n",
    "    3. Puis supprimez `region` de la liste des regions avec la méthode **`.remove()`**\n",
    "    \n",
    "    4. Utilisez la fonction **`choice`** du module **`random`** pour choisir une autre region (`autre_region`) dans `autres_regions`. \n",
    "    \n",
    "    5. récupérez la liste des départements de `autre_region` nommées `reponses_fausses`.\n",
    "    \n",
    "    6. Concaténez les listes `reponses_vraies` et `reponses_fausses` et stockez le résultat dans une varible nommée `reponses`\n",
    "     \n",
    "    7. Mélanger l'ordre des bonnes et mauvaises réponses avec la fonction **`shuffle`** du module **`random`**.\n",
    "     \n",
    "3. A ce stage pour la region `dakar` par exemple, vous vous retrouverez potentiellement avec la liste suivante ```['guédiawaye', 'bambey', 'pikine', 'mbacké', 'rufisque']```. Ce n'est qu'un exemple où pour la region de dakar on se retrouve avec une liste de ces départements avec d'autres départements (ceux de **diourbel**) mais mélangés. A patir cette liste, il faudra générer le string suivant avec la méthode `.join()` (qui permet de créer un string à partir d'une liste avec une séparateur (on l'a vu en cours)) :\n",
    "\n",
    "`[ ]guédiawaye, [ ]bambey, [ ]pikine, [ ]mbacké, [ ]rufisque`\n",
    "\n",
    "En gros on a juste ajouter des cases à cacher par les étudiants pour choisir leurs réponses. Il faudra renvoyez ce string nommées `reponses_formatees` à la fin de la fonction."
   ]
  },
  {
   "cell_type": "code",
   "execution_count": null,
   "id": "psychological-gilbert",
   "metadata": {},
   "outputs": [],
   "source": [
    "## TODO: importer le module random\n",
    " import ...  # a completer\n"
   ]
  },
  {
   "cell_type": "code",
   "execution_count": null,
   "id": "detailed-illustration",
   "metadata": {},
   "outputs": [],
   "source": [
    "def reponse_potentielle(region, region_departements):\n",
    "    \n",
    "    reponses_vraies = ... # vraies réponses\n",
    "    \n",
    "    # créer autres_regions\n",
    "    autres_regions = ...\n",
    "    \n",
    "    # enlever region de la liste autres_regions\n",
    "    autres_regions.remove() # completer\n",
    "    \n",
    "    # choisir une region au hazard\n",
    "    autre_region = random.choice()\n",
    "    \n",
    "    # récupérer les departements de autre_region dans la variable reponses_fausses\n",
    "    reponses_fausses = ...\n",
    "    \n",
    "    # concaténer reponses_vraies et  reponses_fausses\n",
    "    reponses_possibles = ...\n",
    "    \n",
    "    random.shuffle() ## mélanger les réponses\n",
    "    \n",
    "    reponses_formatees = \"\".join() # a vous ce completer aussi\n",
    "    \n",
    "    return reponses_formatees"
   ]
  },
  {
   "cell_type": "code",
   "execution_count": null,
   "id": "joint-morocco",
   "metadata": {},
   "outputs": [],
   "source": []
  },
  {
   "cell_type": "code",
   "execution_count": null,
   "id": "concerned-worry",
   "metadata": {},
   "outputs": [],
   "source": []
  },
  {
   "cell_type": "code",
   "execution_count": null,
   "id": "acknowledged-conducting",
   "metadata": {},
   "outputs": [],
   "source": [
    "## Exécuter la cellule suivante pour bien voir que le résultat change à chaque éxecution\n",
    "\n",
    "### Vous devrez voir les départements de dakar et autres départements choisis alétoirement\n",
    "\n",
    "reponse_potentielle('dakar', region_departements)"
   ]
  },
  {
   "cell_type": "markdown",
   "id": "grateful-jason",
   "metadata": {},
   "source": [
    "### Q6 Créer une fonction nommée `genere_quiz` prenant en argument le dictionnaire `region_departements` et le numéro de l'élève `num_eleve` et génére un quiz.\n",
    "\n",
    "On mettra les quiz dans un dossier à créer dans votre répertoire courant nommée **fichiers_quiz**\n",
    "Les fichiers quiz seront nommés de la façon suivante en fonction du numéro de l'élève: __fichier_quiz_1.txt, fichier_quiz_2.txt, ..., fichier_quiz_35.txt__ \n",
    "\n",
    "- Un fichier __fichier_quiz_1.txt__ doit s'apparenter de la manière suivante:\n",
    "\n",
    "```\n",
    "Cochez les bonnes réponses pour chaque région\n",
    "Q1) Dakar\n",
    "[]rufisque, []nioro du rip, []pikine, []guinguinéo, []guédiawaye\n",
    "\n",
    "Q2) Diourbel\n",
    "[]malem-hodar, []kounghel, []bambey, []mbacké, []birkilane\n",
    "\n",
    "Q3) Fatick\n",
    "[]foundiougne, []gossas, []vélingara, []médina yoro foulah\n",
    "\n",
    ".\n",
    ".\n",
    ".\n",
    "etc\n",
    "```\n",
    "\n",
    "- Il faut donc écrire les questions sur une ligne et les réponses associées sur une nouvelle ligne juste en dessous. On peut le faire avec la fonction **.write()**. Pensez bien à sauter une ligne avec **.write(\"\\n\")** avant d'écrire. Vous comprenez aussi qu'il faudra utiliser la fonction **potentielle_reponse** pour générer les réponses pour chaque question."
   ]
  },
  {
   "cell_type": "code",
   "execution_count": null,
   "id": "loving-pantyhose",
   "metadata": {},
   "outputs": [],
   "source": [
    "import os\n",
    "\n",
    "chemin_dossier = \"./fichiers_quiz\"\n",
    "\n",
    "os.makedirs() # à completer"
   ]
  },
  {
   "cell_type": "code",
   "execution_count": null,
   "id": "exclusive-foundation",
   "metadata": {},
   "outputs": [],
   "source": [
    "## code à completer\n",
    "\n",
    "def genere_quiz(region_departements, chemin_dossier, num_eleve=3):\n",
    "    \n",
    "    \"\"\"\n",
    "    Cette fonction permet de créer un fichier de quiz pour \n",
    "    un numéra d'élève donné.\n",
    "    Pour exemple pour l'élève numéro 13, \n",
    "    le fichier sera nommé fichier_quiz_13.txt stocké dans le dossier fichiers_quiz\n",
    "    Le chemin pour le fichier est \"fichiers_quiz/fichier_quiz_13.txt\"\n",
    "  \n",
    "    \"\"\"\n",
    "    \n",
    "    ## créer/ouvrer un fichier quiz. On fait bien attention au nom du fichier et le chemin \n",
    "    \n",
    "    chemin_fichier = chemin_dossier +  ... # a completer\n",
    "    \n",
    "    quiz_file = open(, mode=\"w\") # a completer\n",
    "    quiz_file.write(\"Cochez les bons départments pour chaque région\")\n",
    "    quiz_file.write(\"\\n\")\n",
    "    \n",
    "    # TODO: récupérer la liste des régions à partir du dictionnaire region_departements avec .keys()\n",
    "    ### faites attention à bien convertir la variable regions en liste\n",
    "    regions =  ...\n",
    "    regions = ... # convertir en liste\n",
    "    \n",
    "    ## Mélanger l'ordre des régions de la liste \"regions\" avec la shuffle\n",
    "    random.shuffle() # à completer\n",
    "    \n",
    "    # créer les questions pour chaque réponses\n",
    "    \n",
    "    for num_question, region in enumerate(regions): # i est la ième question du quiz\n",
    "        \n",
    "        quiz_file.write()   # saut de ligne (à completer)\n",
    "        \n",
    "        ## Ecrire une question (Regarder la cellule où est montré le format attendu (cellule précedente))\n",
    "        quiz_file.write() #(à completer)\n",
    "        \n",
    "        ## écrire les réponses\n",
    "        reponses = ... # utiliser la fonction reponse_potentielle (à completer)\n",
    "        \n",
    "        quiz_file.write() # (à completer)\n",
    "        \n",
    "        quiz_file.write()   # saut de ligne (à completer)\n",
    "                \n",
    "    quiz_file.close()"
   ]
  },
  {
   "cell_type": "code",
   "execution_count": null,
   "id": "formal-syracuse",
   "metadata": {},
   "outputs": [],
   "source": [
    "## un test \n",
    "genere_quiz(region_departements, chemin_dossier, num_eleve=3)"
   ]
  },
  {
   "cell_type": "markdown",
   "id": "removable-night",
   "metadata": {},
   "source": [
    "### Enfin !!!!!\n",
    "\n",
    "Nous avons créer une fonction capable de générer un quiz à partir d'un numéro. Nous allons donc créer des quiz pour chaque élève un faisant une boucle for.\n",
    "Résultat attendu dans le dossier **fichiers_quiz**: __fichier_quiz_1.txt, fichier_quiz_2.txt, ..., fichier_quiz_35.txt__ \n"
   ]
  },
  {
   "cell_type": "code",
   "execution_count": null,
   "id": "exterior-detective",
   "metadata": {},
   "outputs": [],
   "source": [
    "for num_eleve in range(35):\n",
    "    # utiliser la fonction  genere_quiz pour générer le quiz pour l'éleve numéro num_eleve. \n",
    "    # Mettez bien tous les arguments de la fonction\n",
    "    ...\n",
    "    "
   ]
  },
  {
   "cell_type": "code",
   "execution_count": null,
   "id": "scheduled-saturday",
   "metadata": {},
   "outputs": [],
   "source": []
  },
  {
   "cell_type": "markdown",
   "id": "derived-singapore",
   "metadata": {},
   "source": [
    "### Pour allez plus loin !!!\n",
    "\n",
    "Ceci n'est pas une question. Vous n'êtes pas obligés de coder. Vous pouvez proposer des idées !!!\n",
    "Je vous laisse imaginer une idée de ce qu'on peut faire pour la suite avec les questionnaires. Peut-être générer les réponses pour chaque quiz !!!"
   ]
  },
  {
   "cell_type": "code",
   "execution_count": null,
   "id": "announced-diving",
   "metadata": {},
   "outputs": [],
   "source": []
  }
 ],
 "metadata": {
  "kernelspec": {
   "display_name": "Python 3",
   "language": "python",
   "name": "python3"
  },
  "language_info": {
   "codemirror_mode": {
    "name": "ipython",
    "version": 3
   },
   "file_extension": ".py",
   "mimetype": "text/x-python",
   "name": "python",
   "nbconvert_exporter": "python",
   "pygments_lexer": "ipython3",
   "version": "3.8.5"
  }
 },
 "nbformat": 4,
 "nbformat_minor": 5
}
